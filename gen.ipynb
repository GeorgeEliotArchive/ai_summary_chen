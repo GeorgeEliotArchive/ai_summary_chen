{
 "cells": [
  {
   "cell_type": "code",
   "execution_count": 21,
   "metadata": {},
   "outputs": [
    {
     "name": "stdout",
     "output_type": "stream",
     "text": [
      "**Time_period**:\n",
      "\n",
      "** Significant Quotes**:\n",
      "\n"
     ]
    }
   ],
   "source": [
    "import os\n",
    "import glob\n",
    "\n",
    "# Find all json files in the current directory\n",
    "files = glob.glob('./docs/*/*/*', recursive=True)\n",
    "for file in files:\n",
    "    # open file in read mode\n",
    "    with open(file, 'r') as rd_file :\n",
    "        lines = rd_file.readlines()\n",
    "\n",
    "    # open file in write mode\n",
    "    with open(file, 'w') as wd_file:\n",
    "        # check if line has 'testes'\n",
    "        for i, line in enumerate(lines):\n",
    "            if line == '** Significant Quotes**:\\n' or line == '** Significant Quotes**:\\n':\n",
    "                print(line)\n",
    "            lines[i] = line.replace('**Time_period**:\\n', '**Time Period**:\\n')\n",
    "            lines[i] = line.replace('** Significant Quotes**:\\n', '** Significant Quotations**:\\n')\n",
    "\n",
    "        wd_file.writelines(lines)"
   ]
  }
 ],
 "metadata": {
  "kernelspec": {
   "display_name": "venv",
   "language": "python",
   "name": "python3"
  },
  "language_info": {
   "codemirror_mode": {
    "name": "ipython",
    "version": 3
   },
   "file_extension": ".py",
   "mimetype": "text/x-python",
   "name": "python",
   "nbconvert_exporter": "python",
   "pygments_lexer": "ipython3",
   "version": "3.11.3"
  },
  "orig_nbformat": 4
 },
 "nbformat": 4,
 "nbformat_minor": 2
}
